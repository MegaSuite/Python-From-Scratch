{
 "cells": [
  {
   "cell_type": "code",
   "execution_count": null,
   "metadata": {},
   "outputs": [],
   "source": [
    "import urllib.request\n",
    "import urllib.error\n",
    "import socket\n",
    "import urllib.parse"
   ]
  },
  {
   "cell_type": "code",
   "execution_count": null,
   "metadata": {},
   "outputs": [],
   "source": [
    "response=urllib.request.urlopen('https://www.python.org')\n",
    "print(response.read().decode('utf-8'))\n",
    "\n",
    "\n",
    "print(type(response))\n",
    "print(response.status)\n",
    "print(response.getheaders())\n",
    "print(response.getheader('Server'),response.getheader('Age'))\n",
    "\n",
    "for key,value in response.getheaders():\n",
    "    print(f\"{key:<20}{value:<20}\")\n"
   ]
  },
  {
   "cell_type": "code",
   "execution_count": null,
   "metadata": {},
   "outputs": [],
   "source": [
    "data=bytes(urllib.parse.urlencode({'word':'hello'}),encoding='utf-8')\n",
    "response=urllib.request.urlopen('http://httpbin.org/post',data=data)\n",
    "print(response.read().decode('utf-8'))"
   ]
  },
  {
   "cell_type": "code",
   "execution_count": null,
   "metadata": {},
   "outputs": [],
   "source": [
    "try:\n",
    "    response=urllib.request.urlopen('http://httpbin.org/get',timeout=0.1)\n",
    "except urllib.error.URLError as e:\n",
    "    if isinstance(e.reason,socket.timeout):\n",
    "        print(\"TIME OUT\")\n",
    "    else:\n",
    "        print(e)"
   ]
  },
  {
   "cell_type": "code",
   "execution_count": null,
   "metadata": {},
   "outputs": [],
   "source": [
    "request=urllib.request.Request('https://python.org')\n",
    "response=urllib.request.urlopen(request)\n",
    "print(response.read().decode('utf-8'))"
   ]
  },
  {
   "cell_type": "code",
   "execution_count": null,
   "metadata": {},
   "outputs": [],
   "source": [
    "url='http://httpbin.org/post'\n",
    "headers={\n",
    "    'User-Agent':'Mozilla/4.0(compatible;MSIE 5.5;Windows NT)',\n",
    "    'Host':'httpbin.org'\n",
    "}\n",
    "dict={\n",
    "    'name':'Germey'\n",
    "}\n",
    "data=bytes(urllib.parse.urlencode(dict),encoding='utf-8')\n",
    "req=urllib.request.Request(url=url,data=data,headers=headers,method='POST')\n",
    "# req.add_header('User-Agent','Mozilla/4.0(compatible;MSIE 5.5;Windows NT)')\n",
    "response=urllib.request.urlopen(req)    \n",
    "print(response.read().decode('utf-8'))"
   ]
  },
  {
   "cell_type": "code",
   "execution_count": null,
   "metadata": {},
   "outputs": [],
   "source": [
    "from urllib.request import HTTPPasswordMgrWithDefaultRealm,HTTPBasicAuthHandler,build_opener\n",
    "from urllib.error import URLError\n",
    "\n",
    "username='username'\n",
    "password='password'\n",
    "url='http://localhost:5000/'\n",
    "\n",
    "p=HTTPPasswordMgrWithDefaultRealm()\n",
    "p.add_password(None,url,username,password)\n",
    "auth_handler=HTTPBasicAuthHandler(p)\n",
    "opener=build_opener(auth_handler)\n",
    "\n",
    "try:\n",
    "    result=opener.open(url)\n",
    "    html=result.read().decode('utf-8')\n",
    "    print(html)\n",
    "\n",
    "except URLError as e:\n",
    "    print(e.reason)\n",
    "\n",
    "    "
   ]
  },
  {
   "cell_type": "code",
   "execution_count": 23,
   "metadata": {},
   "outputs": [],
   "source": [
    "import http.cookiejar,urllib.request\n",
    "\n",
    "cookie=http.cookiejar.CookieJar()\n",
    "# cookie=http.cookiejar.MozillaCookieJar()\n",
    "# cookie=http.cookiejar.LWPCookieJar()\n",
    "\n",
    "\n",
    "handler=urllib.request.HTTPCookieProcessor(cookie)\n",
    "opener=urllib.request.build_opener(handler)\n",
    "response=opener.open('http://www.baidu.com')\n",
    "\n",
    "\n",
    "# cookie.save('cookie.txt',ignore_discard=True,ignore_expires=True)\n",
    "\n",
    "\n",
    "for item in cookie:\n",
    "    print(item.name+\"=\"+item.value)\n",
    "print()\n",
    "print(response.read().decode('utf-8'))\n"
   ]
  }
 ],
 "metadata": {
  "kernelspec": {
   "display_name": "Python 3",
   "language": "python",
   "name": "python3"
  },
  "language_info": {
   "codemirror_mode": {
    "name": "ipython",
    "version": 3
   },
   "file_extension": ".py",
   "mimetype": "text/x-python",
   "name": "python",
   "nbconvert_exporter": "python",
   "pygments_lexer": "ipython3",
   "version": "3.10.7"
  },
  "orig_nbformat": 4
 },
 "nbformat": 4,
 "nbformat_minor": 2
}
