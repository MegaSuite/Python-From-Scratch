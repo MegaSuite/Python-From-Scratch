{
 "cells": [
  {
   "cell_type": "code",
   "execution_count": null,
   "metadata": {},
   "outputs": [],
   "source": [
    "import urllib.request\n",
    "import urllib.error\n",
    "import socket\n",
    "import urllib.parse"
   ]
  },
  {
   "cell_type": "code",
   "execution_count": null,
   "metadata": {},
   "outputs": [],
   "source": [
    "response=urllib.request.urlopen('https://www.python.org')\n",
    "print(response.read().decode('utf-8'))\n",
    "\n",
    "\n",
    "print(type(response))\n",
    "print(response.status)\n",
    "print(response.getheaders())\n",
    "print(response.getheader('Server'),response.getheader('Age'))\n",
    "\n",
    "for key,value in response.getheaders():\n",
    "    print(f\"{key:<20}{value:<20}\")\n"
   ]
  },
  {
   "cell_type": "code",
   "execution_count": null,
   "metadata": {},
   "outputs": [],
   "source": [
    "data=bytes(urllib.parse.urlencode({'word':'hello'}),encoding='utf-8')\n",
    "response=urllib.request.urlopen('http://httpbin.org/post',data=data)\n",
    "print(response.read().decode('utf-8'))"
   ]
  },
  {
   "cell_type": "code",
   "execution_count": null,
   "metadata": {},
   "outputs": [],
   "source": [
    "try:\n",
    "    response=urllib.request.urlopen('http://httpbin.org/get',timeout=0.1)\n",
    "except urllib.error.URLError as e:\n",
    "    if isinstance(e.reason,socket.timeout):\n",
    "        print(\"TIME OUT\")\n",
    "    else:\n",
    "        print(e)"
   ]
  },
  {
   "cell_type": "code",
   "execution_count": null,
   "metadata": {},
   "outputs": [],
   "source": [
    "request=urllib.request.Request('https://python.org')\n",
    "response=urllib.request.urlopen(request)\n",
    "print(response.read().decode('utf-8'))"
   ]
  },
  {
   "cell_type": "code",
   "execution_count": null,
   "metadata": {},
   "outputs": [],
   "source": [
    "url='http://httpbin.org/post'\n",
    "headers={\n",
    "    'User-Agent':'Mozilla/4.0(compatible;MSIE 5.5;Windows NT)',\n",
    "    'Host':'httpbin.org'\n",
    "}\n",
    "dict={\n",
    "    'name':'Germey'\n",
    "}\n",
    "data=bytes(urllib.parse.urlencode(dict),encoding='utf-8')\n",
    "req=urllib.request.Request(url=url,data=data,headers=headers,method='POST')\n",
    "# req.add_header('User-Agent','Mozilla/4.0(compatible;MSIE 5.5;Windows NT)')\n",
    "response=urllib.request.urlopen(req)    \n",
    "print(response.read().decode('utf-8'))"
   ]
  },
  {
   "cell_type": "code",
   "execution_count": null,
   "metadata": {},
   "outputs": [],
   "source": [
    "from urllib.request import HTTPPasswordMgrWithDefaultRealm,HTTPBasicAuthHandler,build_opener\n",
    "from urllib.error import URLError\n",
    "\n",
    "username='username'\n",
    "password='password'\n",
    "url='http://localhost:5000/'\n",
    "\n",
    "p=HTTPPasswordMgrWithDefaultRealm()\n",
    "p.add_password(None,url,username,password)\n",
    "auth_handler=HTTPBasicAuthHandler(p)\n",
    "opener=build_opener(auth_handler)\n",
    "\n",
    "try:\n",
    "    result=opener.open(url)\n",
    "    html=result.read().decode('utf-8')\n",
    "    print(html)\n",
    "\n",
    "except URLError as e:\n",
    "    print(e.reason)\n",
    "\n",
    "    "
   ]
  },
  {
   "cell_type": "code",
   "execution_count": null,
   "metadata": {},
   "outputs": [],
   "source": [
    "import http.cookiejar,urllib.request\n",
    "\n",
    "cookie=http.cookiejar.CookieJar()\n",
    "# cookie=http.cookiejar.MozillaCookieJar()\n",
    "# cookie=http.cookiejar.LWPCookieJar()\n",
    "\n",
    "\n",
    "handler=urllib.request.HTTPCookieProcessor(cookie)\n",
    "opener=urllib.request.build_opener(handler)\n",
    "response=opener.open('http://www.baidu.com')\n",
    "\n",
    "\n",
    "# cookie.save('cookie.txt',ignore_discard=True,ignore_expires=True)\n",
    "\n",
    "\n",
    "for item in cookie:\n",
    "    print(item.name+\"=\"+item.value)\n",
    "print()\n",
    "print(response.read().decode('utf-8'))\n"
   ]
  },
  {
   "cell_type": "code",
   "execution_count": null,
   "metadata": {},
   "outputs": [],
   "source": [
    "from urllib.error import URLError\n",
    "from urllib import request\n",
    "try:\n",
    "    response=urllib.request.urlopen('https://cuiqingcai.com/index.htm')\n",
    "except URLError as e:\n",
    "    print(e.reason)"
   ]
  },
  {
   "cell_type": "code",
   "execution_count": null,
   "metadata": {},
   "outputs": [],
   "source": [
    "from urllib.error import HTTPError,URLError\n",
    "from urllib import request\n",
    "try:\n",
    "    response=urllib.request.urlopen('https://cuiqingcai.com/index.htm')\n",
    "except HTTPError as e:\n",
    "    print(e.reason,'\\n',e.code,'\\n')\n",
    "    for key,value in e.headers.items():\n",
    "        print(f\"{key:<30}{value:<}\")\n",
    "except URLError as e:\n",
    "    print(e.reason)\n",
    "else:\n",
    "\n",
    "    print('Request Successfully')"
   ]
  },
  {
   "cell_type": "code",
   "execution_count": null,
   "metadata": {},
   "outputs": [],
   "source": [
    "import socket\n",
    "import urllib.request\n",
    "import urllib.error\n",
    "\n",
    "try:\n",
    "    response=urllib.request.urlopen('https://www.baidu.com',timeout=0.01)\n",
    "except urllib.error.URLError as e:\n",
    "    print(type(e.reason))\n",
    "    if isinstance(e.reason,socket.timeout):\n",
    "        print('TIME OUT')"
   ]
  },
  {
   "cell_type": "code",
   "execution_count": null,
   "metadata": {},
   "outputs": [],
   "source": [
    "import urllib.parse\n",
    "result=urllib.parse.urlparse('http://www.baidu.com/index.html;user?id=5#comment',allow_fragments=False)\n",
    "print(type(result),'\\n'+str(result)+'\\n')\n",
    "print(result.scheme+'\\n'+result[0]+'\\n'+result.netloc+'\\n'+result[1]+'\\n'+result.path+'\\n'+result[2])\n",
    "\n",
    "data=['http','www.baidu.com','index.html','user','a=6','comment']\n",
    "print(urllib.parse.urlunparse(data),'\\n')\n",
    "\n",
    "result=urllib.parse.urlsplit('http://www.baidu.com/index.html;user?id=5#comment')\n",
    "print(type(result),'\\n'+str(result)+'\\n')\n",
    "\n",
    "\n",
    "data=['http','www.baidu.com','index.html','a=6','comment']\n",
    "print(urllib.parse.urlunsplit(data),'\\n')\n",
    "\n",
    "print(urllib.parse.urljoin('http://www.baidu.com','FAQ.html'),'\\n')\n",
    "\n",
    "\n",
    "\n"
   ]
  },
  {
   "cell_type": "code",
   "execution_count": null,
   "metadata": {},
   "outputs": [],
   "source": [
    "import urllib.parse\n",
    "params={\n",
    "    'name':'germey',\n",
    "    'age':22\n",
    "}\n",
    "\n",
    "base_url='http://www.baidu.com?'\n",
    "url=base_url+urllib.parse.urlencode(params)\n",
    "print(url)\n",
    "\n",
    "\n",
    "print(urllib.parse.parse_qs('name=germey&age=22'))\n",
    "print(urllib.parse.parse_qsl('name=germey&age=22'))"
   ]
  },
  {
   "cell_type": "code",
   "execution_count": null,
   "metadata": {},
   "outputs": [],
   "source": [
    "import urllib.parse\n",
    "\n",
    "keyword='壁纸'\n",
    "url='https://www.baidu.com/s?wd='+urllib.parse.quote(keyword)\n",
    "print(url)\n",
    "\n",
    "print(urllib.parse.unquote(url))"
   ]
  }
 ],
 "metadata": {
  "kernelspec": {
   "display_name": "Python 3",
   "language": "python",
   "name": "python3"
  },
  "language_info": {
   "codemirror_mode": {
    "name": "ipython",
    "version": 3
   },
   "file_extension": ".py",
   "mimetype": "text/x-python",
   "name": "python",
   "nbconvert_exporter": "python",
   "pygments_lexer": "ipython3",
   "version": "3.10.7"
  },
  "orig_nbformat": 4
 },
 "nbformat": 4,
 "nbformat_minor": 2
}
