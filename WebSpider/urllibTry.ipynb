{
 "cells": [
  {
   "cell_type": "code",
   "execution_count": null,
   "metadata": {},
   "outputs": [],
   "source": [
    "import urllib.request\n",
    "import urllib.error\n",
    "import socket\n",
    "import urllib.parse"
   ]
  },
  {
   "cell_type": "code",
   "execution_count": null,
   "metadata": {},
   "outputs": [],
   "source": [
    "response=urllib.request.urlopen('https://www.python.org')\n",
    "print(response.read().decode('utf-8'))\n",
    "\n",
    "\n",
    "print(type(response))\n",
    "print(response.status)\n",
    "print(response.getheaders())\n",
    "print(response.getheader('Server'),response.getheader('Age'))\n",
    "\n",
    "for key,value in response.getheaders():\n",
    "    print(f\"{key:<20}{value:<20}\")\n"
   ]
  },
  {
   "cell_type": "code",
   "execution_count": null,
   "metadata": {},
   "outputs": [],
   "source": [
    "data=bytes(urllib.parse.urlencode({'word':'hello'}),encoding='utf-8')\n",
    "response=urllib.request.urlopen('http://httpbin.org/post',data=data)\n",
    "print(response.read().decode('utf-8'))"
   ]
  },
  {
   "cell_type": "code",
   "execution_count": null,
   "metadata": {},
   "outputs": [],
   "source": [
    "try:\n",
    "    response=urllib.request.urlopen('http://httpbin.org/get',timeout=0.1)\n",
    "except urllib.error.URLError as e:\n",
    "    if isinstance(e.reason,socket.timeout):\n",
    "        print(\"TIME OUT\")\n",
    "    else:\n",
    "        print(e)"
   ]
  },
  {
   "cell_type": "code",
   "execution_count": null,
   "metadata": {},
   "outputs": [],
   "source": [
    "request=urllib.request.Request('https://python.org')\n",
    "response=urllib.request.urlopen(request)\n",
    "print(response.read().decode('utf-8'))"
   ]
  },
  {
   "cell_type": "code",
   "execution_count": null,
   "metadata": {},
   "outputs": [],
   "source": [
    "url='http://httpbin.org/post'\n",
    "headers={\n",
    "    'User-Agent':'Mozilla/4.0(compatible;MSIE 5.5;Windows NT)',\n",
    "    'Host':'httpbin.org'\n",
    "}\n",
    "dict={\n",
    "    'name':'Germey'\n",
    "}\n",
    "data=bytes(urllib.parse.urlencode(dict),encoding='utf-8')\n",
    "req=urllib.request.Request(url=url,data=data,headers=headers,method='POST')\n",
    "# req.add_header('User-Agent','Mozilla/4.0(compatible;MSIE 5.5;Windows NT)')\n",
    "response=urllib.request.urlopen(req)    \n",
    "print(response.read().decode('utf-8'))"
   ]
  },
  {
   "cell_type": "code",
   "execution_count": null,
   "metadata": {},
   "outputs": [],
   "source": [
    "from urllib.request import HTTPPasswordMgrWithDefaultRealm,HTTPBasicAuthHandler,build_opener\n",
    "from urllib.error import URLError\n",
    "\n",
    "username='username'\n",
    "password='password'\n",
    "url='http://localhost:5000/'\n",
    "\n",
    "p=HTTPPasswordMgrWithDefaultRealm()\n",
    "p.add_password(None,url,username,password)\n",
    "auth_handler=HTTPBasicAuthHandler(p)\n",
    "opener=build_opener(auth_handler)\n",
    "\n",
    "try:\n",
    "    result=opener.open(url)\n",
    "    html=result.read().decode('utf-8')\n",
    "    print(html)\n",
    "\n",
    "except URLError as e:\n",
    "    print(e.reason)\n",
    "\n",
    "    "
   ]
  },
  {
   "cell_type": "code",
   "execution_count": null,
   "metadata": {},
   "outputs": [],
   "source": [
    "import http.cookiejar,urllib.request\n",
    "\n",
    "cookie=http.cookiejar.CookieJar()\n",
    "# cookie=http.cookiejar.MozillaCookieJar()\n",
    "# cookie=http.cookiejar.LWPCookieJar()\n",
    "\n",
    "\n",
    "handler=urllib.request.HTTPCookieProcessor(cookie)\n",
    "opener=urllib.request.build_opener(handler)\n",
    "response=opener.open('http://www.baidu.com')\n",
    "\n",
    "\n",
    "# cookie.save('cookie.txt',ignore_discard=True,ignore_expires=True)\n",
    "\n",
    "\n",
    "for item in cookie:\n",
    "    print(item.name+\"=\"+item.value)\n",
    "print()\n",
    "print(response.read().decode('utf-8'))\n"
   ]
  },
  {
   "cell_type": "code",
   "execution_count": null,
   "metadata": {},
   "outputs": [],
   "source": [
    "from urllib.error import URLError\n",
    "from urllib import request\n",
    "try:\n",
    "    response=urllib.request.urlopen('https://cuiqingcai.com/index.htm')\n",
    "except URLError as e:\n",
    "    print(e.reason)"
   ]
  },
  {
   "cell_type": "code",
   "execution_count": null,
   "metadata": {},
   "outputs": [],
   "source": [
    "from urllib.error import HTTPError,URLError\n",
    "from urllib import request\n",
    "try:\n",
    "    response=urllib.request.urlopen('https://cuiqingcai.com/index.htm')\n",
    "except HTTPError as e:\n",
    "    print(e.reason,'\\n',e.code,'\\n')\n",
    "    for key,value in e.headers.items():\n",
    "        print(f\"{key:<30}{value:<}\")\n",
    "except URLError as e:\n",
    "    print(e.reason)\n",
    "else:\n",
    "\n",
    "    print('Request Successfully')"
   ]
  },
  {
   "cell_type": "code",
   "execution_count": null,
   "metadata": {},
   "outputs": [],
   "source": [
    "import socket\n",
    "import urllib.request\n",
    "import urllib.error\n",
    "\n",
    "try:\n",
    "    response=urllib.request.urlopen('https://www.baidu.com',timeout=0.01)\n",
    "except urllib.error.URLError as e:\n",
    "    print(type(e.reason))\n",
    "    if isinstance(e.reason,socket.timeout):\n",
    "        print('TIME OUT')"
   ]
  },
  {
   "cell_type": "code",
   "execution_count": null,
   "metadata": {},
   "outputs": [],
   "source": [
    "import urllib.parse\n",
    "result=urllib.parse.urlparse('http://www.baidu.com/index.html;user?id=5#comment',allow_fragments=False)\n",
    "print(type(result),'\\n'+str(result)+'\\n')\n",
    "print(result.scheme+'\\n'+result[0]+'\\n'+result.netloc+'\\n'+result[1]+'\\n'+result.path+'\\n'+result[2])\n",
    "\n",
    "data=['http','www.baidu.com','index.html','user','a=6','comment']\n",
    "print(urllib.parse.urlunparse(data),'\\n')\n",
    "\n",
    "result=urllib.parse.urlsplit('http://www.baidu.com/index.html;user?id=5#comment')\n",
    "print(type(result),'\\n'+str(result)+'\\n')\n",
    "\n",
    "\n",
    "data=['http','www.baidu.com','index.html','a=6','comment']\n",
    "print(urllib.parse.urlunsplit(data),'\\n')\n",
    "\n",
    "print(urllib.parse.urljoin('http://www.baidu.com','FAQ.html'),'\\n')\n",
    "\n",
    "\n",
    "\n"
   ]
  },
  {
   "cell_type": "code",
   "execution_count": null,
   "metadata": {},
   "outputs": [],
   "source": [
    "import urllib.parse\n",
    "params={\n",
    "    'name':'germey',\n",
    "    'age':22\n",
    "}\n",
    "\n",
    "base_url='http://www.baidu.com?'\n",
    "url=base_url+urllib.parse.urlencode(params)\n",
    "print(url)\n",
    "\n",
    "\n",
    "print(urllib.parse.parse_qs('name=germey&age=22'))\n",
    "print(urllib.parse.parse_qsl('name=germey&age=22'))"
   ]
  },
  {
   "cell_type": "code",
   "execution_count": null,
   "metadata": {},
   "outputs": [],
   "source": [
    "import urllib.parse\n",
    "\n",
    "keyword='壁纸'\n",
    "url='https://www.baidu.com/s?wd='+urllib.parse.quote(keyword)\n",
    "print(url)\n",
    "\n",
    "print(urllib.parse.unquote(url))"
   ]
  },
  {
   "cell_type": "code",
   "execution_count": null,
   "metadata": {},
   "outputs": [],
   "source": [
    "from urllib.robotparser import RobotFileParser\n",
    "from urllib.request import urlopen\n",
    "\n",
    "rp=RobotFileParser()\n",
    "rp.set_url('http://www.jianshu.com/robots.txt')\n",
    "# rp.set_url('http://www.jianshu.com/robots.txt')\n",
    "\n",
    "rp.read()\n",
    "\n",
    "\n",
    "print(rp.can_fetch('Googlebot','http://www.jianshu.com/p/b67554025d7d'))\n",
    "\n",
    "print(rp.can_fetch('*','http://www.jianshu.com/search?q=python&page=1&type=collections'))"
   ]
  },
  {
   "attachments": {},
   "cell_type": "markdown",
   "metadata": {},
   "source": [
    "## Requests"
   ]
  },
  {
   "cell_type": "code",
   "execution_count": null,
   "metadata": {},
   "outputs": [],
   "source": [
    "import requests\n",
    "\n",
    "data={\n",
    "    'name':'germey',\n",
    "    'age':22\n",
    "}\n",
    "r=requests.get('http://httpbin.org/get',params=data)\n",
    "\n",
    "header=r.json()\n",
    "for head in header:\n",
    "    if head!='headers':\n",
    "        print(str(head),':',header.get(head))\n",
    "    else:\n",
    "        for key,value in header.get(head).items():\n",
    "            print(f'{str(key):<15}:{value}')\n",
    "\n",
    "print(r.json())\n",
    "\n",
    "\n",
    "\n"
   ]
  },
  {
   "cell_type": "code",
   "execution_count": null,
   "metadata": {},
   "outputs": [],
   "source": [
    "import requests\n",
    "import re\n",
    "\n",
    "headers={\n",
    "    'User-Agent':'Mozilla/5.0(Macintosh;Intel Mac OS X 10_11_4) AppleWebKit/537.36(KHTML,like Gecko) Chrome/52.0.2743.116 Safari/537.36'\n",
    "}\n",
    "\n",
    "r=requests.get('https://www.zhihu.com/explore',headers=headers)\n",
    "pattern=re.compile('explore-feed.*?question_link.*?>(.*?)</a>',re.S)\n",
    "titles=re.findall(pattern,r.text)\n",
    "print(titles)\n"
   ]
  },
  {
   "cell_type": "code",
   "execution_count": null,
   "metadata": {},
   "outputs": [],
   "source": [
    "import requests\n",
    "\n",
    "r=requests.get('https://www.github.com/favicon.ico')\n",
    "\n",
    "with open('favicon.ico','wb') as f:\n",
    "    f.write(r.content)\n",
    "\n"
   ]
  },
  {
   "cell_type": "code",
   "execution_count": null,
   "metadata": {},
   "outputs": [],
   "source": [
    "import requests\n",
    "\n",
    "files={'file':open('favicon.ico','rb')}\n",
    "r=requests.post('http://httpbin.org/post',files=files)\n",
    "print(r.text)\n",
    "\n"
   ]
  },
  {
   "cell_type": "code",
   "execution_count": null,
   "metadata": {},
   "outputs": [],
   "source": [
    "import requests\n",
    "\n",
    "headers={\n",
    "    'Cookie':'',\n",
    "    'Host':'www.zhihu.com',\n",
    "    'User-Agent':'Mozilla/5.0(Macintosh;Intel Mac OS X 10_11_4) AppleWebKit/537.36(KHTML,like Gecko) Chrome/52.0.2743.116 Safari/537.36'\n",
    "}\n",
    "r=requests.get('https://www.zhihu.com',headers=headers)\n",
    "print(r.text)\n",
    "\n",
    "\n",
    "\n",
    "cookies=''\n",
    "jar=requests.cookies.RequestsCookieJar()\n",
    "headers={\n",
    "    'Host':'www.zhihu.com',\n",
    "    'User-Agent':'Mozilla/5.0(Macintosh;Intel Mac OS X 10_11_4) AppleWebKit/537.36(KHTML,like Gecko) Chrome/52.0.2743.116 Safari/537.36'\n",
    "}\n",
    "for cookie in cookies.split(';'):\n",
    "    key,value=cookie.split('=',1)\n",
    "    jar.set(key,value)\n",
    "r=requests.get('https://www.zhihu.com',cookies=jar,headers=headers)\n",
    "print(r.text)\n"
   ]
  },
  {
   "cell_type": "code",
   "execution_count": null,
   "metadata": {},
   "outputs": [],
   "source": [
    "import requests\n",
    "\n",
    "s=requests.Session()\n",
    "s.get('http://httpbin.org/cookies/set/number/123456789')\n",
    "r=s.get('http://httpbin.org/cookies')\n",
    "print(r.text)"
   ]
  },
  {
   "cell_type": "code",
   "execution_count": 3,
   "metadata": {},
   "outputs": [
    {
     "name": "stdout",
     "output_type": "stream",
     "text": [
      "200\n"
     ]
    }
   ],
   "source": [
    "import requests\n",
    "\n",
    "# from requests.packages import urllib3\n",
    "# urllib3.disable_warnings()\n",
    "\n",
    "import logging\n",
    "logging.captureWarnings(True)\n",
    "\n",
    "r=requests.get('https://www.12306.cn',verify=False)\n",
    "print(r.status_code)"
   ]
  },
  {
   "cell_type": "code",
   "execution_count": 2,
   "metadata": {},
   "outputs": [
    {
     "name": "stdout",
     "output_type": "stream",
     "text": [
      "{\n",
      "  \"args\": {}, \n",
      "  \"data\": \"\", \n",
      "  \"files\": {}, \n",
      "  \"form\": {\n",
      "    \"name\": \"germy\"\n",
      "  }, \n",
      "  \"headers\": {\n",
      "    \"Accept\": \"*/*\", \n",
      "    \"Accept-Encoding\": \"gzip, deflate\", \n",
      "    \"Content-Length\": \"10\", \n",
      "    \"Content-Type\": \"application/x-www-form-urlencoded\", \n",
      "    \"Host\": \"httpbin.org\", \n",
      "    \"User-Agent\": \"Mozilla/5.0(Macintosh;Intel Mac OS X 10_11_4) AppleWebKit/537.36(KHTML,like Gecko) Chrome/52.0.2743.116 Safari/537.36\", \n",
      "    \"X-Amzn-Trace-Id\": \"Root=1-64563ac5-78866db125067d026e3b3ac7\"\n",
      "  }, \n",
      "  \"json\": null, \n",
      "  \"origin\": \"103.116.244.155\", \n",
      "  \"url\": \"http://httpbin.org/post\"\n",
      "}\n",
      "\n"
     ]
    }
   ],
   "source": [
    "from requests import Request,Session\n",
    "\n",
    "url='http://httpbin.org/post'\n",
    "data={\n",
    "    'name':'germy'\n",
    "}\n",
    "headers={\n",
    "    'User-Agent':'Mozilla/5.0(Macintosh;Intel Mac OS X 10_11_4) AppleWebKit/537.36(KHTML,like Gecko) Chrome/52.0.2743.116 Safari/537.36'\n",
    "}\n",
    "s=Session()\n",
    "req=Request('POST',url,data=data,headers=headers)\n",
    "prepped=s.prepare_request(req)\n",
    "r=s.send(prepped)\n",
    "print(r.text)"
   ]
  }
 ],
 "metadata": {
  "kernelspec": {
   "display_name": "Python 3",
   "language": "python",
   "name": "python3"
  },
  "language_info": {
   "codemirror_mode": {
    "name": "ipython",
    "version": 3
   },
   "file_extension": ".py",
   "mimetype": "text/x-python",
   "name": "python",
   "nbconvert_exporter": "python",
   "pygments_lexer": "ipython3",
   "version": "3.10.7"
  },
  "orig_nbformat": 4
 },
 "nbformat": 4,
 "nbformat_minor": 2
}
