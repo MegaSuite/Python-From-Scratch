{
 "cells": [
  {
   "cell_type": "code",
   "execution_count": null,
   "metadata": {},
   "outputs": [],
   "source": [
    "'''\n",
    "* ==================================================================\n",
    "* Description: aback.ipynb\n",
    "* Copyright (c) Konrad Locas.\n",
    "* All rights reserved.\n",
    "* Author: Konrad Locas.\n",
    "* Date: 2023/02/06 星期一 14:52\n",
    "* ===================================================================\n",
    "'''"
   ]
  },
  {
   "attachments": {},
   "cell_type": "markdown",
   "metadata": {},
   "source": [
    "## 类和对象"
   ]
  },
  {
   "cell_type": "code",
   "execution_count": null,
   "metadata": {},
   "outputs": [],
   "source": [
    "class Restaurant():\n",
    "    def __init__(self,name,type) -> None:\n",
    "        self.restaurant_name=name \n",
    "        self.cuisine_type=type \n",
    "        self.num_served=10\n",
    "    def set_num(self,num):\n",
    "        self.num_served=num\n",
    "    def increment_num(self,delta):\n",
    "        self.num_served+=delta\n",
    "    def describe_restaurant(self):\n",
    "        print(self.restaurant_name,end=\"->\")\n",
    "        print(self.cuisine_type)\n",
    "    def open_restaurant(self):\n",
    "        print(\"The restaurant is running business.\")\n",
    "restaurant=Restaurant(\"KFC\",\"fastfood\")\n",
    "restaurant.describe_restaurant()\n",
    "restaurant.open_restaurant()\n",
    "print(f\"Till now,the restaurant has served {restaurant.num_served} guests.\")\n",
    "restaurant.increment_num(20)\n",
    "print(f\"Now,the restaurant has served {restaurant.num_served} guests.\")\n"
   ]
  },
  {
   "cell_type": "code",
   "execution_count": null,
   "metadata": {},
   "outputs": [],
   "source": [
    "class User():\n",
    "    def __init__(self,first_name,age) -> None:\n",
    "        self.first=first_name\n",
    "        self.age=age\n",
    "        self.login_attempts=0\n",
    "    def greet_user(self):\n",
    "        print(\"Hello! Mr.\"+self.first,f\"you are {self.age} years old!\")\n",
    "    def increment_login_attempts(self):\n",
    "        self.login_attempts+=1\n",
    "    def reset_login_attempts(self):\n",
    "        self.login_attempts=0\n",
    "zhangsan=User('zhang',30)\n",
    "zhangsan.greet_user()\n",
    "zhangsan.increment_login_attempts()\n",
    "zhangsan.increment_login_attempts()\n",
    "zhangsan.increment_login_attempts()\n",
    "print(f\"now,login attempts is {zhangsan.login_attempts}\")\n",
    "zhangsan.reset_login_attempts()\n",
    "print(f\"now,login attempts is {zhangsan.login_attempts}\")\n",
    "\n"
   ]
  },
  {
   "cell_type": "code",
   "execution_count": null,
   "metadata": {},
   "outputs": [],
   "source": [
    "class IceCreamLand(Restaurant):\n",
    "    def __init__(self, name, type,flavor:list) -> None:\n",
    "        super().__init__(name, type)\n",
    "        self.flavors=flavor\n",
    "    def menu(self):\n",
    "        for i in self.flavors:\n",
    "            print(i)\n",
    "\n",
    "iceland=IceCreamLand('mixue','juice',['icecream','icetea','coke','hamburger'])\n",
    "iceland.menu()\n"
   ]
  },
  {
   "cell_type": "code",
   "execution_count": null,
   "metadata": {},
   "outputs": [],
   "source": [
    "class Privileges():\n",
    "    def __init__(self) -> None:\n",
    "        self.privileges=['add post','del post','ban user']\n",
    "    def upgrade(self):\n",
    "        self.privileges[1]='delete post'\n",
    "class Admin(User):\n",
    "    def __init__(self, first_name, age) -> None:\n",
    "        super().__init__(first_name, age)\n",
    "        # self.privileges=['add post','del post','ban user']\n",
    "        self.privileges=Privileges()\n",
    "    def show_privileges(self):\n",
    "        for i in self.privileges.privileges:\n",
    "            print(i)\n",
    "admin=Admin('Jack',37)\n",
    "admin.show_privileges()\n",
    "admin.privileges.upgrade()\n",
    "print()\n",
    "admin.show_privileges()"
   ]
  },
  {
   "attachments": {},
   "cell_type": "markdown",
   "metadata": {},
   "source": [
    "## 文件操作和json"
   ]
  },
  {
   "cell_type": "code",
   "execution_count": null,
   "metadata": {},
   "outputs": [],
   "source": [
    "import json\n",
    "file='file.json'\n",
    "try:\n",
    "    with open(file,'r') as f:\n",
    "        numb=json.load(f)\n",
    "except FileNotFoundError:\n",
    "    num = list(input('no nums,input a string of nums!'))\n",
    "    with open(file,'w') as f:\n",
    "        json.dump(num,f)\n",
    "        print(num,'has been recorded')\n",
    "else:\n",
    "    print('it\\'s',numb)\n",
    "\n",
    "\n"
   ]
  },
  {
   "cell_type": "code",
   "execution_count": null,
   "metadata": {},
   "outputs": [],
   "source": [
    "import json\n",
    "file='file.json'\n",
    "def get_stored():\n",
    "        try:\n",
    "            with open(file,'r') as f:\n",
    "                num=json.load(f)\n",
    "        except FileNotFoundError:\n",
    "            return None\n",
    "        else:\n",
    "            return num\n",
    "        \n",
    "def read():\n",
    "    num=get_stored()\n",
    "    if num:\n",
    "        print('it\\'s',numb)\n",
    "    else:\n",
    "        num = list(input('no nums,input a string of nums!'))\n",
    "        with open(file,'w') as f:\n",
    "            json.dump(num,f)\n",
    "        print(num,'has been recorded')\n",
    "\n",
    "read()\n",
    "\n",
    "\n"
   ]
  },
  {
   "cell_type": "code",
   "execution_count": null,
   "metadata": {},
   "outputs": [],
   "source": [
    "import json\n",
    "file='file.json'\n",
    "def get_stored():\n",
    "        try:\n",
    "            with open(file,'r') as f:\n",
    "                num=json.load(f)\n",
    "        except FileNotFoundError:\n",
    "            return None\n",
    "        else:\n",
    "            return num\n",
    "        \n",
    "def input_num():\n",
    "        num = list(input('no nums,input a string of nums!'))\n",
    "        with open(file,'w') as f:\n",
    "            json.dump(num,f)\n",
    "        return num\n",
    "\n",
    "def read():\n",
    "    num=get_stored()\n",
    "    if num:\n",
    "        while 1:\n",
    "            print('it\\'s',num,'? (Y/N)')\n",
    "            flag=input()\n",
    "            if flag=='Y'or flag=='N':\n",
    "                if flag=='Y':\n",
    "                    print('Yes,it\\'s',num)\n",
    "                    break\n",
    "                else:\n",
    "                    numa = list(input('no nums,input a string of nums!'))\n",
    "                    with open(file,'w') as f:\n",
    "                        json.dump(numa,f)\n",
    "                    print('it\\'s',numa,'and has been recorded')\n",
    "                    break\n",
    "            else:\n",
    "                 continue\n",
    "    else:\n",
    "        num2=input_num()\n",
    "        print(num2,'has been recorded')\n",
    "\n",
    "read()"
   ]
  },
  {
   "attachments": {},
   "cell_type": "markdown",
   "metadata": {},
   "source": [
    "## 函数调试"
   ]
  },
  {
   "cell_type": "code",
   "execution_count": null,
   "metadata": {},
   "outputs": [],
   "source": [
    "def get_formatted_name(first,last,middle=''):\n",
    "    if middle:\n",
    "        full_name=first+' '+middle+' '+last\n",
    "    else:\n",
    "        full_name=first+' '+last\n",
    "    return full_name.title()"
   ]
  },
  {
   "cell_type": "code",
   "execution_count": null,
   "metadata": {},
   "outputs": [],
   "source": [
    "import unittest\n",
    "from name_function import get_formatted_name\n",
    "class Name_Test_Case(unittest.TestCase):\n",
    "    def test_name_function(self):\n",
    "        formatted_name=get_formatted_name('jack','jones')\n",
    "        self.assertEqual(formatted_name,'Jack Jones')\n",
    "    \n",
    "    def test_middle_name_func(self):\n",
    "        formatted_name=get_formatted_name('wolfgang','jimmy','nammy')\n",
    "        self.assertEqual(formatted_name,'Wolfgang Nammy Jimmy')\n",
    "unittest.main()"
   ]
  },
  {
   "cell_type": "markdown",
   "metadata": {},
   "source": []
  },
  {
   "cell_type": "code",
   "execution_count": null,
   "metadata": {},
   "outputs": [],
   "source": [
    "def city_func(city,country,population=0):\n",
    "    if population:\n",
    "        return city.title()+','+country.title()+' - population '+str(population)\n",
    "    else:\n",
    "        return city.title()+','+country.title()"
   ]
  },
  {
   "cell_type": "code",
   "execution_count": null,
   "metadata": {},
   "outputs": [],
   "source": [
    "import unittest\n",
    "from function import city_func\n",
    "class city_func_test(unittest.TestCase):\n",
    "    def test_city_population_func(self):\n",
    "        outcome=city_func('santiago','chile',50000)\n",
    "        self.assertEqual(outcome,'Santiago,Chile - population 50000')\n",
    "    def test_city_func(self):\n",
    "        outcome=city_func('santiago','chile')\n",
    "        self.assertEqual(outcome,'Santiago,Chile')\n",
    "unittest.main()"
   ]
  },
  {
   "attachments": {},
   "cell_type": "markdown",
   "metadata": {},
   "source": [
    "## 类的调试"
   ]
  },
  {
   "cell_type": "code",
   "execution_count": null,
   "metadata": {},
   "outputs": [],
   "source": [
    "class AnonymousSurvey():\n",
    "    def __init__(self,question):\n",
    "        self.question=question\n",
    "        self.responses=[]\n",
    "\n",
    "    def show_question(self):\n",
    "        print(self.question)\n",
    "\n",
    "    def store_response(self,new_response):\n",
    "        self.responses.append(new_response)\n",
    "    \n",
    "    def show_results(self):\n",
    "        print(\"Survey Results:\")\n",
    "        for response in self.responses:\n",
    "            print('-'+response)"
   ]
  },
  {
   "cell_type": "markdown",
   "metadata": {},
   "source": []
  },
  {
   "cell_type": "code",
   "execution_count": null,
   "metadata": {},
   "outputs": [],
   "source": [
    "import unittest\n",
    "from classy import AnonymousSurvey\n",
    "class TestAnonymousSurvey(unittest.TestCase):\n",
    "        def setUp(self):\n",
    "            question=\"what do you like?\"\n",
    "            self.MySurvey=AnonymousSurvey(question)\n",
    "            self.responses=['English','Spanish','German']\n",
    "        \n",
    "        def test_single_store_response(self):\n",
    "             self.MySurvey.store_response(self.responses[0])\n",
    "             self.assertIn(self.responses[0],self.MySurvey.responses)\n",
    "             \n",
    "        def test_3_store_response(self):\n",
    "            for response in self.responses:\n",
    "                self.MySurvey.store_response(response)\n",
    "            for response in self.responses:\n",
    "                self.assertIn(response,self.MySurvey.responses)\n",
    "unittest.main()\n"
   ]
  },
  {
   "cell_type": "code",
   "execution_count": 1,
   "metadata": {},
   "outputs": [
    {
     "data": {
      "image/png": "[encoded data removed]",
      "text/plain": [
       "<Figure size 640x480 with 1 Axes>"
      ]
     },
     "metadata": {},
     "output_type": "display_data"
    }
   ],
   "source": [
    "import matplotlib.pyplot as plt\n",
    "\n",
    "inputb=list(range(1,1001,100))\n",
    "squares=[x**2 for x in inputb]\n",
    "# plt.plot(inputb,squares,linewidth=5,color='r')\n",
    "\n",
    "\n",
    "plt.title(\"sqare nums\",fontsize=24)\n",
    "plt.xlabel(\"Value\",fontsize=13)\n",
    "plt.ylabel(\"squares\",fontsize=14)\n",
    "\n",
    "plt.tick_params(axis='both',labelsize='small',right=True)\n",
    "plt.scatter(inputb,squares,s=20,c=squares,cmap='Blues',edgecolor=None)\n",
    "\n",
    "plt.show()\n"
   ]
  }
 ],
 "metadata": {
  "kernelspec": {
   "display_name": "Python 3",
   "language": "python",
   "name": "python3"
  },
  "language_info": {
   "codemirror_mode": {
    "name": "ipython",
    "version": 3
   },
   "file_extension": ".py",
   "mimetype": "text/x-python",
   "name": "python",
   "nbconvert_exporter": "python",
   "pygments_lexer": "ipython3",
   "version": "3.10.7"
  },
  "orig_nbformat": 4,
  "vscode": {
   "interpreter": {
    "hash": "2469a70536e4d2335a2ea8907942d0699c37342a371ac185bdb5b0aa6f073890"
   }
  }
 },
 "nbformat": 4,
 "nbformat_minor": 2
}
