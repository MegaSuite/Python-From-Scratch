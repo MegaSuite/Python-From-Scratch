{
 "cells": [
  {
   "cell_type": "code",
   "execution_count": null,
   "metadata": {},
   "outputs": [],
   "source": [
    "'''\n",
    "* ==================================================================\n",
    "* Description: aback.ipynb\n",
    "* Copyright (c) Konrad Locas.\n",
    "* All rights reserved.\n",
    "* Author: Konrad Locas.\n",
    "* Date: 2023/02/06 星期一 14:52\n",
    "* ===================================================================\n",
    "'''"
   ]
  },
  {
   "cell_type": "code",
   "execution_count": null,
   "metadata": {},
   "outputs": [],
   "source": [
    "class Restaurant():\n",
    "    def __init__(self,name,type) -> None:\n",
    "        self.restaurant_name=name \n",
    "        self.cuisine_type=type \n",
    "        self.num_served=10\n",
    "    def set_num(self,num):\n",
    "        self.num_served=num\n",
    "    def increment_num(self,delta):\n",
    "        self.num_served+=delta\n",
    "    def describe_restaurant(self):\n",
    "        print(self.restaurant_name,end=\"->\")\n",
    "        print(self.cuisine_type)\n",
    "    def open_restaurant(self):\n",
    "        print(\"The restaurant is running business.\")\n",
    "restaurant=Restaurant(\"KFC\",\"fastfood\")\n",
    "restaurant.describe_restaurant()\n",
    "restaurant.open_restaurant()\n",
    "print(f\"Till now,the restaurant has served {restaurant.num_served} guests.\")\n",
    "restaurant.increment_num(20)\n",
    "print(f\"Now,the restaurant has served {restaurant.num_served} guests.\")\n"
   ]
  },
  {
   "cell_type": "code",
   "execution_count": null,
   "metadata": {},
   "outputs": [],
   "source": [
    "class User():\n",
    "    def __init__(self,first_name,age) -> None:\n",
    "        self.first=first_name\n",
    "        self.age=age\n",
    "        self.login_attempts=0\n",
    "    def greet_user(self):\n",
    "        print(\"Hello! Mr.\"+self.first,f\"you are {self.age} years old!\")\n",
    "    def increment_login_attempts(self):\n",
    "        self.login_attempts+=1\n",
    "    def reset_login_attempts(self):\n",
    "        self.login_attempts=0\n",
    "zhangsan=User('zhang',30)\n",
    "zhangsan.greet_user()\n",
    "zhangsan.increment_login_attempts()\n",
    "zhangsan.increment_login_attempts()\n",
    "zhangsan.increment_login_attempts()\n",
    "print(f\"now,login attempts is {zhangsan.login_attempts}\")\n",
    "zhangsan.reset_login_attempts()\n",
    "print(f\"now,login attempts is {zhangsan.login_attempts}\")\n",
    "\n"
   ]
  },
  {
   "cell_type": "code",
   "execution_count": null,
   "metadata": {},
   "outputs": [],
   "source": [
    "class IceCreamLand(Restaurant):\n",
    "    def __init__(self, name, type,flavor:list) -> None:\n",
    "        super().__init__(name, type)\n",
    "        self.flavors=flavor\n",
    "    def menu(self):\n",
    "        for i in self.flavors:\n",
    "            print(i)\n",
    "\n",
    "iceland=IceCreamLand('mixue','juice',['icecream','icetea','coke','hamburger'])\n",
    "iceland.menu()\n"
   ]
  },
  {
   "cell_type": "code",
   "execution_count": null,
   "metadata": {},
   "outputs": [],
   "source": [
    "class Privileges():\n",
    "    def __init__(self) -> None:\n",
    "        self.privileges=['add post','del post','ban user']\n",
    "    def upgrade(self):\n",
    "        self.privileges[1]='delete post'\n",
    "class Admin(User):\n",
    "    def __init__(self, first_name, age) -> None:\n",
    "        super().__init__(first_name, age)\n",
    "        # self.privileges=['add post','del post','ban user']\n",
    "        self.privileges=Privileges()\n",
    "    def show_privileges(self):\n",
    "        for i in self.privileges.privileges:\n",
    "            print(i)\n",
    "admin=Admin('Jack',37)\n",
    "admin.show_privileges()\n",
    "admin.privileges.upgrade()\n",
    "print()\n",
    "admin.show_privileges()"
   ]
  }
 ],
 "metadata": {
  "kernelspec": {
   "display_name": "Python 3",
   "language": "python",
   "name": "python3"
  },
  "language_info": {
   "codemirror_mode": {
    "name": "ipython",
    "version": 3
   },
   "file_extension": ".py",
   "mimetype": "text/x-python",
   "name": "python",
   "nbconvert_exporter": "python",
   "pygments_lexer": "ipython3",
   "version": "3.10.7"
  },
  "orig_nbformat": 4,
  "vscode": {
   "interpreter": {
    "hash": "2469a70536e4d2335a2ea8907942d0699c37342a371ac185bdb5b0aa6f073890"
   }
  }
 },
 "nbformat": 4,
 "nbformat_minor": 2
}
